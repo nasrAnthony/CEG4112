{
 "cells": [
  {
   "cell_type": "code",
   "execution_count": 1,
   "metadata": {},
   "outputs": [
    {
     "name": "stderr",
     "output_type": "stream",
     "text": [
      "c:\\Users\\User\\Desktop\\El final\\AIML\\my repo\\Assignments\\assignment_env\\Lib\\site-packages\\tqdm\\auto.py:21: TqdmWarning: IProgress not found. Please update jupyter and ipywidgets. See https://ipywidgets.readthedocs.io/en/stable/user_install.html\n",
      "  from .autonotebook import tqdm as notebook_tqdm\n"
     ]
    }
   ],
   "source": [
    "import torch\n",
    "import torch.nn as nn\n",
    "import torch.optim as optim\n",
    "import torch.nn.functional as F\n",
    "from torch.utils.data import DataLoader, Dataset\n",
    "from transformers import AutoTokenizer\n",
    "from datasets import load_dataset\n",
    "import matplotlib.pyplot as plt\n",
    "import seaborn as sns\n",
    "import numpy as np\n",
    "from sklearn.metrics import classification_report, confusion_matrix"
   ]
  },
  {
   "cell_type": "code",
   "execution_count": 2,
   "metadata": {},
   "outputs": [
    {
     "name": "stdout",
     "output_type": "stream",
     "text": [
      "Torch is using cuda\n"
     ]
    }
   ],
   "source": [
    "#check if cuda available\n",
    "dev = torch.device(\"cuda\" if torch.cuda.is_available() else \"cpu\")\n",
    "print(f\"Torch is using {dev}\")"
   ]
  },
  {
   "cell_type": "code",
   "execution_count": 3,
   "metadata": {},
   "outputs": [],
   "source": [
    "#load dataset\n",
    "#small so dont need to stream\n",
    "dataset = load_dataset(\"dair-ai/emotion\")"
   ]
  },
  {
   "cell_type": "code",
   "execution_count": 4,
   "metadata": {},
   "outputs": [
    {
     "name": "stdout",
     "output_type": "stream",
     "text": [
      "{'text': 'i didnt feel humiliated', 'label': 0}\n",
      "Sample labels from dataset: [0, 0, 3, 2, 3, 0, 5, 4, 1, 2]\n"
     ]
    }
   ],
   "source": [
    "print(dataset[\"train\"][0])\n",
    "print(\"Sample labels from dataset:\", dataset[\"train\"][\"label\"][:10])"
   ]
  },
  {
   "cell_type": "code",
   "execution_count": 5,
   "metadata": {},
   "outputs": [],
   "source": [
    "#setup tokenizer\n",
    "tokenizer = AutoTokenizer.from_pretrained(\"bert-base-uncased\") #use bert as tokenizer base\n",
    "MAX_LEN = 50 #50 token length as max\n",
    "\n",
    "#setup tokenizer function\n",
    "def tokenize(batch) -> AutoTokenizer:\n",
    "    return tokenizer(batch[\"text\"], padding='max_length', truncation=True, max_length=MAX_LEN)"
   ]
  },
  {
   "cell_type": "code",
   "execution_count": 8,
   "metadata": {},
   "outputs": [
    {
     "name": "stderr",
     "output_type": "stream",
     "text": [
      "Map:   0%|          | 0/16000 [00:00<?, ? examples/s]"
     ]
    },
    {
     "name": "stderr",
     "output_type": "stream",
     "text": [
      "Map: 100%|██████████| 16000/16000 [00:01<00:00, 8067.24 examples/s]\n",
      "Map: 100%|██████████| 2000/2000 [00:00<00:00, 8438.64 examples/s]\n",
      "Map: 100%|██████████| 2000/2000 [00:00<00:00, 8557.63 examples/s]\n"
     ]
    }
   ],
   "source": [
    "dataset = dataset.map(tokenize, batched=True)"
   ]
  },
  {
   "cell_type": "code",
   "execution_count": 9,
   "metadata": {},
   "outputs": [],
   "source": [
    "#format dataset function\n",
    "def format_dataset(split) -> dict: \n",
    "    return {\n",
    "        'input_ids': torch.tensor(split[\"input_ids\"], dtype=torch.long),\n",
    "        'attention_mask': torch.tensor(split[\"attention_mask\"], dtype=torch.long),\n",
    "        'labels': torch.tensor(split[\"label\"], dtype=torch.long)\n",
    "    }"
   ]
  },
  {
   "cell_type": "code",
   "execution_count": 10,
   "metadata": {},
   "outputs": [],
   "source": [
    "#format dataset\n",
    "dataset = {key: format_dataset(dataset[key]) for key in dataset.keys()}"
   ]
  },
  {
   "cell_type": "code",
   "execution_count": 12,
   "metadata": {},
   "outputs": [],
   "source": [
    "NUM_CLASSES = 6"
   ]
  },
  {
   "cell_type": "code",
   "execution_count": 13,
   "metadata": {},
   "outputs": [],
   "source": [
    "#dataset class\n",
    "class EmotionDataset(Dataset):\n",
    "    def __init__(self, data, device):\n",
    "        self.input_ids = data['input_ids'].to(device)\n",
    "        self.attention_mask = data['attention_mask'].to(device)\n",
    "        self.labels = data['labels'].to(device)\n",
    "    \n",
    "    def __len__(self):\n",
    "        return len(self.labels)\n",
    "    \n",
    "    def __getitem__(self, idx):\n",
    "        return self.input_ids[idx], self.attention_mask[idx], self.labels[idx]"
   ]
  },
  {
   "cell_type": "code",
   "execution_count": 14,
   "metadata": {},
   "outputs": [],
   "source": [
    "torch.manual_seed(42)\n",
    "torch.cuda.manual_seed_all(42)\n",
    "train_data = EmotionDataset(dataset[\"train\"], dev)\n",
    "val_data = EmotionDataset(dataset[\"validation\"], dev)\n",
    "test_data = EmotionDataset(dataset[\"test\"], dev)"
   ]
  },
  {
   "cell_type": "code",
   "execution_count": 15,
   "metadata": {},
   "outputs": [],
   "source": [
    "#data laoder\n",
    "BATCH_SIZE = 32\n",
    "train_loader = DataLoader(train_data, batch_size=BATCH_SIZE, shuffle=True)\n",
    "val_loader = DataLoader(val_data, batch_size=BATCH_SIZE)\n",
    "test_loader = DataLoader(test_data, batch_size=BATCH_SIZE)"
   ]
  },
  {
   "cell_type": "code",
   "execution_count": 20,
   "metadata": {},
   "outputs": [],
   "source": [
    "#CNN class\n",
    "class CNNTextClassifier(nn.Module):\n",
    "    def __init__(self, vocab_size, embed_dim, num_classes):\n",
    "        super(CNNTextClassifier, self).__init__()\n",
    "        self.embedding = nn.Embedding(vocab_size, embed_dim)\n",
    "        \n",
    "        # Update convolution layers' input channels to match the first Conv1D output\n",
    "        self.conv1 = nn.Conv1d(in_channels=embed_dim, out_channels=128, kernel_size=3, padding=1)\n",
    "        self.conv2 = nn.Conv1d(in_channels=128, out_channels=128, kernel_size=4, padding=1)  # Input now matches Conv1 output\n",
    "        self.conv3 = nn.Conv1d(in_channels=128, out_channels=128, kernel_size=5, padding=1)  # Input now matches Conv1 output\n",
    "        \n",
    "        self.pool = nn.MaxPool1d(kernel_size=2)\n",
    "        self.dropout = nn.Dropout(0.5)\n",
    "        self.fc = nn.Linear(128, num_classes)\n",
    "\n",
    "    def forward(self, input_ids):\n",
    "        x = self.embedding(input_ids).permute(0, 2, 1)  # (batch_size, embed_dim=100, seq_length=50)\n",
    "        x = F.relu(self.conv1(x))  # Output shape: (batch_size, 128, seq_length)\n",
    "        x = F.relu(self.conv2(x))  # Now correctly receives 128 input channels\n",
    "        x = F.relu(self.conv3(x))  # Now correctly receives 128 input channels\n",
    "        x = self.pool(x)\n",
    "        x = torch.mean(x, dim=2)  # Global average pooling\n",
    "        x = self.dropout(x)\n",
    "        x = self.fc(x)\n",
    "        return x\n"
   ]
  },
  {
   "cell_type": "code",
   "execution_count": 21,
   "metadata": {},
   "outputs": [],
   "source": [
    "#model setup\n",
    "VOCAB_SIZE = tokenizer.vocab_size\n",
    "EMBED_DIM = 100\n",
    "\n",
    "model = CNNTextClassifier(VOCAB_SIZE, EMBED_DIM, NUM_CLASSES).to(dev)\n",
    "criterion = nn.CrossEntropyLoss()\n",
    "optimizer = optim.Adam(model.parameters(), lr=0.001)"
   ]
  },
  {
   "cell_type": "code",
   "execution_count": 22,
   "metadata": {},
   "outputs": [
    {
     "name": "stdout",
     "output_type": "stream",
     "text": [
      "Epoch 1, Train Loss: 1.5396, Train Acc: 0.3337\n",
      "Epoch 2, Train Loss: 1.0882, Train Acc: 0.5224\n",
      "Epoch 3, Train Loss: 0.6967, Train Acc: 0.7160\n",
      "Epoch 4, Train Loss: 0.5145, Train Acc: 0.7981\n",
      "Epoch 5, Train Loss: 0.3824, Train Acc: 0.8614\n",
      "Epoch 6, Train Loss: 0.2606, Train Acc: 0.9094\n",
      "Epoch 7, Train Loss: 0.1674, Train Acc: 0.9428\n",
      "Epoch 8, Train Loss: 0.1237, Train Acc: 0.9553\n",
      "Epoch 9, Train Loss: 0.1018, Train Acc: 0.9653\n",
      "Epoch 10, Train Loss: 0.0763, Train Acc: 0.9739\n"
     ]
    }
   ],
   "source": [
    "#train model function\n",
    "EPOCHS = 10\n",
    "def train_model():\n",
    "    model.train()\n",
    "    train_losses, val_losses = [], []\n",
    "    for epoch in range(EPOCHS):\n",
    "        epoch_loss = 0\n",
    "        correct, total = 0, 0\n",
    "        for input_ids, _, labels in train_loader:\n",
    "            input_ids, labels = input_ids.to(dev), labels.to(dev)\n",
    "            optimizer.zero_grad()\n",
    "            outputs = model(input_ids)\n",
    "            loss = criterion(outputs, labels)\n",
    "            loss.backward()\n",
    "            optimizer.step()\n",
    "            epoch_loss += loss.item()\n",
    "            _, preds = torch.max(outputs, 1)\n",
    "            correct += (preds == labels).sum().item()\n",
    "            total += labels.size(0)\n",
    "        train_acc = correct / total\n",
    "        train_losses.append(epoch_loss / len(train_loader))\n",
    "        print(f\"Epoch {epoch+1}, Train Loss: {train_losses[-1]:.4f}, Train Acc: {train_acc:.4f}\")\n",
    "train_model()"
   ]
  },
  {
   "cell_type": "code",
   "execution_count": 23,
   "metadata": {},
   "outputs": [
    {
     "name": "stdout",
     "output_type": "stream",
     "text": [
      "              precision    recall  f1-score   support\n",
      "\n",
      "           0       0.90      0.93      0.91       581\n",
      "           1       0.93      0.89      0.91       695\n",
      "           2       0.72      0.66      0.69       159\n",
      "           3       0.81      0.89      0.85       275\n",
      "           4       0.87      0.91      0.89       224\n",
      "           5       0.75      0.64      0.69        66\n",
      "\n",
      "    accuracy                           0.88      2000\n",
      "   macro avg       0.83      0.82      0.82      2000\n",
      "weighted avg       0.88      0.88      0.88      2000\n",
      "\n"
     ]
    },
    {
     "data": {
      "image/png": "[encoded data removed]",
      "text/plain": [
       "<Figure size 640x480 with 2 Axes>"
      ]
     },
     "metadata": {},
     "output_type": "display_data"
    }
   ],
   "source": [
    "#Evaluate model\n",
    "def evaluate():\n",
    "    model.eval()\n",
    "    y_true, y_pred = [], []\n",
    "    with torch.no_grad():\n",
    "        for input_ids, _, labels in test_loader:\n",
    "            input_ids, labels = input_ids.to(dev), labels.to(dev)\n",
    "            outputs = model(input_ids)\n",
    "            _, preds = torch.max(outputs, 1)\n",
    "            y_true.extend(labels.cpu().numpy())\n",
    "            y_pred.extend(preds.cpu().numpy())\n",
    "    print(classification_report(y_true, y_pred))\n",
    "    cm = confusion_matrix(y_true, y_pred)\n",
    "    sns.heatmap(cm, annot=True, fmt='d', cmap='Blues')\n",
    "    plt.xlabel('Predicted')\n",
    "    plt.ylabel('Actual')\n",
    "    plt.title('Confusion Matrix')\n",
    "    plt.show()\n",
    "evaluate()"
   ]
  }
 ],
 "metadata": {
  "kernelspec": {
   "display_name": "assignment_env",
   "language": "python",
   "name": "python3"
  },
  "language_info": {
   "codemirror_mode": {
    "name": "ipython",
    "version": 3
   },
   "file_extension": ".py",
   "mimetype": "text/x-python",
   "name": "python",
   "nbconvert_exporter": "python",
   "pygments_lexer": "ipython3",
   "version": "3.11.2"
  }
 },
 "nbformat": 4,
 "nbformat_minor": 2
}
