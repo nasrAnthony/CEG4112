{
 "cells": [
  {
   "cell_type": "code",
   "execution_count": 1,
   "metadata": {},
   "outputs": [
    {
     "name": "stderr",
     "output_type": "stream",
     "text": [
      "c:\\Users\\User\\Desktop\\El final\\AIML\\my repo\\Assignments\\assignment_env\\Lib\\site-packages\\tqdm\\auto.py:21: TqdmWarning: IProgress not found. Please update jupyter and ipywidgets. See https://ipywidgets.readthedocs.io/en/stable/user_install.html\n",
      "  from .autonotebook import tqdm as notebook_tqdm\n"
     ]
    },
    {
     "name": "stdout",
     "output_type": "stream",
     "text": [
      "2.5.1+cu121\n"
     ]
    }
   ],
   "source": [
    "#dependencies\n",
    "import torch\n",
    "import torch.nn as nn\n",
    "import torch.optim as optim\n",
    "from torch.utils.data import DataLoader, Dataset\n",
    "from datasets import load_dataset\n",
    "from transformers import AutoTokenizer, BertModel\n",
    "import matplotlib.pyplot as plt\n",
    "import numpy as np\n",
    "from sklearn.metrics import classification_report, confusion_matrix\n",
    "import seaborn as sns\n",
    "\n",
    "print(torch.__version__)"
   ]
  },
  {
   "cell_type": "code",
   "execution_count": null,
   "metadata": {},
   "outputs": [],
   "source": [
    "#dataset is not too big, 120 000 rows, just text, doesnt need to be streamed...\n",
    "dataset = load_dataset(\"fancyzhx/ag_news\")"
   ]
  },
  {
   "cell_type": "code",
   "execution_count": null,
   "metadata": {},
   "outputs": [],
   "source": [
    "#data is exlusively text based, so lets tokenize\n",
    "tokenizer = AutoTokenizer.from_pretrained(\"bert-base-uncased\")\n",
    "\n",
    "def preprocess_data(entry): #function to take in text, tokenize it and return tokenized text (entry)\n",
    "    tokens= tokenizer(\n",
    "        entry[\"text\"], \n",
    "        padding=\"max_length\", \n",
    "        truncation=True, \n",
    "        max_length=128,\n",
    "        return_tensors=\"pt\"\n",
    "    )\n",
    "    return {\"input_ids\": tokens.input_ids.squeeze(0), \"attention_mask\": tokens.attention_mask.squeeze(0), \"label\": entry[\"label\"]}"
   ]
  },
  {
   "cell_type": "code",
   "execution_count": 5,
   "metadata": {},
   "outputs": [],
   "source": [
    "#run preprocessing of data. \n",
    "processed_data = [preprocess_data(entry) for entry in dataset['train']]"
   ]
  },
  {
   "cell_type": "code",
   "execution_count": null,
   "metadata": {},
   "outputs": [],
   "source": [
    "class NewsDataset(Dataset): #class to hold dataset, not 100% needed but nth\n",
    "    def __init__(self, data):\n",
    "        self.data = data\n",
    "    \n",
    "    def __len__(self):\n",
    "        return len(self.data)\n",
    "    \n",
    "    def __getitem__(self, idx):\n",
    "        return self.data[idx]"
   ]
  },
  {
   "cell_type": "code",
   "execution_count": 7,
   "metadata": {},
   "outputs": [],
   "source": [
    "dataloader = DataLoader(NewsDataset(processed_data), batch_size=32, shuffle=True)"
   ]
  },
  {
   "cell_type": "code",
   "execution_count": null,
   "metadata": {},
   "outputs": [],
   "source": [
    "class TextClassifier(nn.Module):\n",
    "    def __init__(self, num_classes=4): #init with 4 since 4 possible outputs from model. \n",
    "        super(TextClassifier, self).__init__()\n",
    "        self.bert = BertModel.from_pretrained(\"bert-base-uncased\") #use bert\n",
    "        self.fc = nn.Linear(self.bert.config.hidden_size, num_classes)\n",
    "    \n",
    "    def forward(self, input_ids, attention_mask):\n",
    "        outputs = self.bert(input_ids=input_ids, attention_mask=attention_mask)\n",
    "        return self.fc(outputs.pooler_output)\n"
   ]
  },
  {
   "cell_type": "code",
   "execution_count": null,
   "metadata": {},
   "outputs": [
    {
     "name": "stdout",
     "output_type": "stream",
     "text": [
      "True\n",
      "cuda\n",
      "2.5.1+cu121\n"
     ]
    }
   ],
   "source": [
    "# Model setup\n",
    "model = TextClassifier()\n",
    "criterion = nn.CrossEntropyLoss()\n",
    "optimizer = optim.Adam(model.parameters(), lr=0.0001)\n",
    "\n",
    "device = torch.device(\"cuda\" if torch.cuda.is_available() else \"cpu\")\n",
    "print(torch.cuda.is_available())\n",
    "print(device)\n",
    "model.to(device)\n",
    "\n",
    "print(torch.__version__) #checking if torch version really supporting CUDA\n"
   ]
  },
  {
   "cell_type": "code",
   "execution_count": null,
   "metadata": {},
   "outputs": [
    {
     "name": "stdout",
     "output_type": "stream",
     "text": [
      "Epoch [1/3], Loss: 0.2553\n",
      "Epoch [2/3], Loss: 0.1763\n",
      "Epoch [3/3], Loss: 0.1718\n"
     ]
    }
   ],
   "source": [
    "def train_model(model, dataloader, criterion, optimizer, epochs=3): #3 epochs, took about 33.5 minutes to train fully on local machine. \n",
    "    model.train()\n",
    "    for epoch in range(epochs):\n",
    "        total_loss = 0\n",
    "        for batch in dataloader:\n",
    "            input_ids, attention_mask, labels = (\n",
    "                batch[\"input_ids\"].to(device),  # Move to GPU\n",
    "                batch[\"attention_mask\"].to(device),\n",
    "                batch[\"label\"].to(device),\n",
    "            )\n",
    "            optimizer.zero_grad()\n",
    "            outputs = model(input_ids, attention_mask)\n",
    "            loss = criterion(outputs, labels)\n",
    "            loss.backward()\n",
    "            optimizer.step()\n",
    "            total_loss += loss.item()\n",
    "        print(f\"Epoch [{epoch+1}/{epochs}], Loss: {total_loss/len(dataloader):.4f}\")\n",
    "\n",
    "#Train the model\n",
    "train_model(model, dataloader, criterion, optimizer)"
   ]
  },
  {
   "cell_type": "code",
   "execution_count": null,
   "metadata": {},
   "outputs": [
    {
     "name": "stdout",
     "output_type": "stream",
     "text": [
      "              precision    recall  f1-score   support\n",
      "\n",
      "           0       0.99      0.95      0.97     30000\n",
      "           1       0.99      0.99      0.99     30000\n",
      "           2       0.97      0.95      0.96     30000\n",
      "           3       0.93      0.98      0.96     30000\n",
      "\n",
      "    accuracy                           0.97    120000\n",
      "   macro avg       0.97      0.97      0.97    120000\n",
      "weighted avg       0.97      0.97      0.97    120000\n",
      "\n"
     ]
    },
    {
     "data": {
      "image/png": "[encoded data removed]",
      "text/plain": [
       "<Figure size 640x480 with 2 Axes>"
      ]
     },
     "metadata": {},
     "output_type": "display_data"
    }
   ],
   "source": [
    "#Evaluate model\n",
    "model.eval()\n",
    "all_preds, all_labels = [], []\n",
    "for batch in dataloader:\n",
    "    input_ids, attention_mask, labels = batch[\"input_ids\"].to(device), batch[\"attention_mask\"].to(device), batch[\"label\"].to(device)\n",
    "    with torch.no_grad():\n",
    "        outputs = model(input_ids, attention_mask)\n",
    "        preds = torch.argmax(outputs, dim=1)\n",
    "    all_preds.extend(preds.cpu().numpy())\n",
    "    all_labels.extend(labels.cpu().numpy())\n",
    "\n",
    "print(classification_report(all_labels, all_preds))\n",
    "\n",
    "#Confusion matrix visualization\n",
    "cm = confusion_matrix(all_labels, all_preds)\n",
    "sns.heatmap(cm, annot=True, fmt=\"d\", cmap=\"Blues\", xticklabels=[\"World\", \"Sports\", \"Business\", \"Sci/Tech\"], yticklabels=[\"World\", \"Sports\", \"Business\", \"Sci/Tech\"])\n",
    "plt.xlabel(\"Predicted\")\n",
    "plt.ylabel(\"Actual\")\n",
    "plt.title(\"Confusion Matrix\")\n",
    "plt.show()"
   ]
  },
  {
   "cell_type": "code",
   "execution_count": null,
   "metadata": {},
   "outputs": [
    {
     "name": "stdout",
     "output_type": "stream",
     "text": [
      "Text: The president met with world leaders to discuss global trade policies.\n",
      "Predicted Category: World\n",
      "\n",
      "Text: The Lakers won the NBA championship after a thrilling game.\n",
      "Predicted Category: Sports\n",
      "\n",
      "Text: Stock markets have surged as investors gain confidence in the economy.\n",
      "Predicted Category: Business\n",
      "\n",
      "Text: NASA has discovered a new exoplanet that could be habitable.\n",
      "Predicted Category: Sci/Tech\n",
      "\n"
     ]
    }
   ],
   "source": [
    "#for fun testing\n",
    "\n",
    "label_map = {\n",
    "    0: \"World\",\n",
    "    1: \"Sports\",\n",
    "    2: \"Business\",\n",
    "    3: \"Sci/Tech\"\n",
    "}\n",
    "\n",
    "def predict_text(text, model, tokenizer, device):\n",
    "    model.eval()\n",
    "    \n",
    "    \n",
    "    tokens = tokenizer(\n",
    "        text,\n",
    "        padding=\"max_length\",\n",
    "        truncation=True,\n",
    "        max_length=128,\n",
    "        return_tensors=\"pt\"\n",
    "    )\n",
    "\n",
    "\n",
    "    input_ids = tokens[\"input_ids\"].to(device)\n",
    "    attention_mask = tokens[\"attention_mask\"].to(device)\n",
    "\n",
    "\n",
    "    with torch.no_grad():\n",
    "        output = model(input_ids, attention_mask)\n",
    "        prediction = torch.argmax(output, dim=1).cpu().item()\n",
    "\n",
    "\n",
    "    return label_map[prediction]\n",
    "\n",
    "\n",
    "#Example texts\n",
    "test_samples = [\n",
    "    \"The president met with world leaders to discuss global trade policies.\",\n",
    "    \"The Lakers won the NBA championship after a thrilling game.\",\n",
    "    \"Stock markets have surged as investors gain confidence in the economy.\",\n",
    "    \"NASA has discovered a new exoplanet that could be habitable.\"\n",
    "]\n",
    "\n",
    "for text in test_samples:\n",
    "    prediction = predict_text(text, model, tokenizer, device)\n",
    "    print(f\"Text: {text}\\nPredicted Category: {prediction}\\n\")\n",
    "\n",
    "\n",
    "\n",
    "\n"
   ]
  }
 ],
 "metadata": {
  "kernelspec": {
   "display_name": "assignment_env",
   "language": "python",
   "name": "python3"
  },
  "language_info": {
   "codemirror_mode": {
    "name": "ipython",
    "version": 3
   },
   "file_extension": ".py",
   "mimetype": "text/x-python",
   "name": "python",
   "nbconvert_exporter": "python",
   "pygments_lexer": "ipython3",
   "version": "3.11.2"
  }
 },
 "nbformat": 4,
 "nbformat_minor": 2
}
